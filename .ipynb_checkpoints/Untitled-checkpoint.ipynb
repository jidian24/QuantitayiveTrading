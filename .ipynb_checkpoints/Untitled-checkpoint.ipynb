{
 "cells": [
  {
   "cell_type": "code",
   "execution_count": 4,
   "id": "05c3a104",
   "metadata": {},
   "outputs": [
    {
     "ename": "AttributeError",
     "evalue": "module 'vectorbt.signals' has no attribute 'generate_entries'",
     "output_type": "error",
     "traceback": [
      "\u001b[1;31m---------------------------------------------------------------------------\u001b[0m",
      "\u001b[1;31mAttributeError\u001b[0m                            Traceback (most recent call last)",
      "Cell \u001b[1;32mIn[4], line 15\u001b[0m\n\u001b[0;32m     12\u001b[0m exit_short \u001b[38;5;241m=\u001b[39m pd\u001b[38;5;241m.\u001b[39mSeries([\u001b[38;5;241m0\u001b[39m, \u001b[38;5;241m0\u001b[39m, \u001b[38;5;241m0\u001b[39m, \u001b[38;5;241m1\u001b[39m, \u001b[38;5;241m0\u001b[39m], index\u001b[38;5;241m=\u001b[39mprice\u001b[38;5;241m.\u001b[39mindex)\n\u001b[0;32m     14\u001b[0m \u001b[38;5;66;03m# 创建交易记录\u001b[39;00m\n\u001b[1;32m---> 15\u001b[0m long_entries \u001b[38;5;241m=\u001b[39m vbt\u001b[38;5;241m.\u001b[39msignals\u001b[38;5;241m.\u001b[39mgenerate_entries(entry_long, price)\n\u001b[0;32m     16\u001b[0m long_exits \u001b[38;5;241m=\u001b[39m vbt\u001b[38;5;241m.\u001b[39msignals\u001b[38;5;241m.\u001b[39mgenerate_exits(exit_long, price)\n\u001b[0;32m     17\u001b[0m short_entries \u001b[38;5;241m=\u001b[39m vbt\u001b[38;5;241m.\u001b[39msignals\u001b[38;5;241m.\u001b[39mgenerate_entries(entry_short, price)\n",
      "\u001b[1;31mAttributeError\u001b[0m: module 'vectorbt.signals' has no attribute 'generate_entries'"
     ]
    }
   ],
   "source": [
    "import numpy as np\n",
    "import pandas as pd\n",
    "import vectorbt as vbt\n",
    "\n",
    "# 生成示例数据\n",
    "price = pd.Series([10, 11, 12, 13, 14], index=pd.date_range(start='2024-01-01', periods=5))\n",
    "\n",
    "# 创建交易信号\n",
    "entry_long = pd.Series([1, 0, 0, 0, 0], index=price.index)\n",
    "exit_long = pd.Series([0, 1, 0, 0, 0], index=price.index)\n",
    "entry_short = pd.Series([0, 0, 1, 0, 0], index=price.index)\n",
    "exit_short = pd.Series([0, 0, 0, 1, 0], index=price.index)\n",
    "\n",
    "# 创建交易记录\n",
    "long_entries = vbt.signals.generate_entries(entry_long, price)\n",
    "long_exits = vbt.signals.generate_exits(exit_long, price)\n",
    "short_entries = vbt.signals.generate_entries(entry_short, price)\n",
    "short_exits = vbt.signals.generate_exits(exit_short, price)\n",
    "\n",
    "# 创建交易策略并运行\n",
    "ts = vbt.Portfolio.from_signals(\n",
    "    price,\n",
    "    entries=dict(\n",
    "        long=long_entries,\n",
    "        short=short_entries\n",
    "    ),\n",
    "    exits=dict(\n",
    "        long=long_exits,\n",
    "        short=short_exits\n",
    "    )\n",
    ")\n",
    "\n",
    "# 运行策略并获取交易结果\n",
    "portfolio = ts.run()\n",
    "print(portfolio.assets())  # 输出资产情况\n",
    "print(portfolio.trades())  # 输出交易记录"
   ]
  },
  {
   "cell_type": "code",
   "execution_count": null,
   "id": "956f6d49",
   "metadata": {},
   "outputs": [],
   "source": [
    "import vectorbt\n",
    "class = [utils, data, generic, indicators, signals, records, portfolio, labels]\n",
    "help(vectorbt.Positions)"
   ]
  },
  {
   "cell_type": "code",
   "execution_count": 6,
   "id": "77eaf640",
   "metadata": {},
   "outputs": [
    {
     "name": "stdout",
     "output_type": "stream",
     "text": [
      "所有类： [<class 'vectorbt.utils.config.atomic_dict'>, <class 'vectorbt.utils.config.Config'>, <class 'vectorbt.utils.config.Configured'>, <class 'vectorbt.utils.config.AtomicConfig'>, <class 'vectorbt.utils.template.Sub'>, <class 'vectorbt.utils.template.Rep'>, <class 'vectorbt.utils.template.RepEval'>, <class 'vectorbt.utils.template.RepFunc'>, <class 'vectorbt.utils.decorators.CacheCondition'>, <class 'vectorbt.utils.decorators.cached_property'>, <class 'vectorbt.utils.figure.Figure'>, <class 'vectorbt.utils.figure.FigureWidget'>, <class 'vectorbt.utils.schedule_.AsyncJob'>, <class 'vectorbt.utils.schedule_.AsyncScheduler'>, <class 'vectorbt.utils.schedule_.CancelledError'>, <class 'vectorbt.utils.schedule_.ScheduleManager'>, <class 'vectorbt.base.array_wrapper.ArrayWrapper'>, <class 'vectorbt.data.base.symbol_dict'>, <class 'vectorbt.data.base.Data'>, <class 'vectorbt.data.updater.DataUpdater'>, <class 'vectorbt.data.custom.SyntheticData'>, <class 'vectorbt.data.custom.GBMData'>, <class 'vectorbt.data.custom.YFData'>, <class 'vectorbt.data.custom.BinanceData'>, <class 'vectorbt.data.custom.CCXTData'>, <class 'vectorbt.data.custom.AlpacaData'>, <class 'vectorbt.generic.ranges.Ranges'>, <class 'vectorbt.generic.drawdowns.Drawdowns'>, <class 'vectorbt.generic.splitters.RangeSplitter'>, <class 'vectorbt.generic.splitters.RollingSplitter'>, <class 'vectorbt.generic.splitters.ExpandingSplitter'>, <class 'vectorbt.indicators.factory.IndicatorFactory'>, <class 'vectorbt.indicators.basic.MA'>, <class 'vectorbt.indicators.basic.MSTD'>, <class 'vectorbt.indicators.basic.BBANDS'>, <class 'vectorbt.indicators.basic.RSI'>, <class 'vectorbt.indicators.basic.STOCH'>, <class 'vectorbt.indicators.basic.MACD'>, <class 'vectorbt.indicators.basic.ATR'>, <class 'vectorbt.indicators.basic.OBV'>, <class 'vectorbt.signals.factory.SignalFactory'>, <class 'vectorbt.signals.generators.RAND'>, <class 'vectorbt.signals.generators.RANDX'>, <class 'vectorbt.signals.generators.RANDNX'>, <class 'vectorbt.signals.generators.RPROB'>, <class 'vectorbt.signals.generators.RPROBX'>, <class 'vectorbt.signals.generators.RPROBCX'>, <class 'vectorbt.signals.generators.RPROBNX'>, <class 'vectorbt.signals.generators.STX'>, <class 'vectorbt.signals.generators.STCX'>, <class 'vectorbt.signals.generators.OHLCSTX'>, <class 'vectorbt.signals.generators.OHLCSTCX'>, <class 'vectorbt.records.mapped_array.MappedArray'>, <class 'vectorbt.records.base.Records'>, <class 'vectorbt.portfolio.base.Portfolio'>, <class 'vectorbt.portfolio.orders.Orders'>, <class 'vectorbt.portfolio.logs.Logs'>, <class 'vectorbt.portfolio.trades.Trades'>, <class 'vectorbt.portfolio.trades.EntryTrades'>, <class 'vectorbt.portfolio.trades.ExitTrades'>, <class 'vectorbt.portfolio.trades.Positions'>, <class 'vectorbt.labels.generators.FMEAN'>, <class 'vectorbt.labels.generators.FSTD'>, <class 'vectorbt.labels.generators.FMIN'>, <class 'vectorbt.labels.generators.FMAX'>, <class 'vectorbt.labels.generators.FIXLB'>, <class 'vectorbt.labels.generators.MEANLB'>, <class 'vectorbt.labels.generators.LEXLB'>, <class 'vectorbt.labels.generators.TRENDLB'>, <class 'vectorbt.labels.generators.BOLB'>, <class 'numba.core.errors.NumbaExperimentalFeatureWarning'>]\n",
      "所有函数： [<class 'vectorbt.utils.config.atomic_dict'>, <function merge_dicts at 0x000001BCCA667D80>, <class 'vectorbt.utils.config.Config'>, <class 'vectorbt.utils.config.Configured'>, <class 'vectorbt.utils.config.AtomicConfig'>, <class 'vectorbt.utils.template.Sub'>, <class 'vectorbt.utils.template.Rep'>, <class 'vectorbt.utils.template.RepEval'>, <class 'vectorbt.utils.template.RepFunc'>, <function deep_substitute at 0x000001BCCAD46840>, <class 'vectorbt.utils.decorators.CacheCondition'>, <class 'vectorbt.utils.decorators.cached_property'>, <function cached_method at 0x000001BCCA67B740>, <class 'vectorbt.utils.figure.Figure'>, <class 'vectorbt.utils.figure.FigureWidget'>, <function make_figure at 0x000001BCCA593420>, <function make_subplots at 0x000001BCCA689580>, <function set_seed at 0x000001BCCA782DE0>, <function save_animation at 0x000001BCCA782D40>, <class 'vectorbt.utils.schedule_.AsyncJob'>, <class 'vectorbt.utils.schedule_.AsyncScheduler'>, <class 'vectorbt.utils.schedule_.CancelledError'>, <class 'vectorbt.utils.schedule_.ScheduleManager'>, <class 'vectorbt.base.array_wrapper.ArrayWrapper'>, <class 'vectorbt.data.base.symbol_dict'>, <class 'vectorbt.data.base.Data'>, <class 'vectorbt.data.updater.DataUpdater'>, <class 'vectorbt.data.custom.SyntheticData'>, <class 'vectorbt.data.custom.GBMData'>, <class 'vectorbt.data.custom.YFData'>, <class 'vectorbt.data.custom.BinanceData'>, <class 'vectorbt.data.custom.CCXTData'>, <class 'vectorbt.data.custom.AlpacaData'>, <class 'vectorbt.generic.ranges.Ranges'>, <class 'vectorbt.generic.drawdowns.Drawdowns'>, <class 'vectorbt.generic.splitters.RangeSplitter'>, <class 'vectorbt.generic.splitters.RollingSplitter'>, <class 'vectorbt.generic.splitters.ExpandingSplitter'>, <class 'vectorbt.indicators.factory.IndicatorFactory'>, <function talib at 0x000001BCCE1BD9E0>, <function pandas_ta at 0x000001BCCE1BDE40>, <function ta at 0x000001BCD0488C20>, <class 'vectorbt.indicators.basic.MA'>, <class 'vectorbt.indicators.basic.MSTD'>, <class 'vectorbt.indicators.basic.BBANDS'>, <class 'vectorbt.indicators.basic.RSI'>, <class 'vectorbt.indicators.basic.STOCH'>, <class 'vectorbt.indicators.basic.MACD'>, <class 'vectorbt.indicators.basic.ATR'>, <class 'vectorbt.indicators.basic.OBV'>, <class 'vectorbt.signals.factory.SignalFactory'>, <class 'vectorbt.signals.generators.RAND'>, <class 'vectorbt.signals.generators.RANDX'>, <class 'vectorbt.signals.generators.RANDNX'>, <class 'vectorbt.signals.generators.RPROB'>, <class 'vectorbt.signals.generators.RPROBX'>, <class 'vectorbt.signals.generators.RPROBCX'>, <class 'vectorbt.signals.generators.RPROBNX'>, <class 'vectorbt.signals.generators.STX'>, <class 'vectorbt.signals.generators.STCX'>, <class 'vectorbt.signals.generators.OHLCSTX'>, <class 'vectorbt.signals.generators.OHLCSTCX'>, <class 'vectorbt.records.mapped_array.MappedArray'>, <class 'vectorbt.records.base.Records'>, <class 'vectorbt.portfolio.base.Portfolio'>, <class 'vectorbt.portfolio.orders.Orders'>, <class 'vectorbt.portfolio.logs.Logs'>, <class 'vectorbt.portfolio.trades.Trades'>, <class 'vectorbt.portfolio.trades.EntryTrades'>, <class 'vectorbt.portfolio.trades.ExitTrades'>, <class 'vectorbt.portfolio.trades.Positions'>, <class 'vectorbt.labels.generators.FMEAN'>, <class 'vectorbt.labels.generators.FSTD'>, <class 'vectorbt.labels.generators.FMIN'>, <class 'vectorbt.labels.generators.FMAX'>, <class 'vectorbt.labels.generators.FIXLB'>, <class 'vectorbt.labels.generators.MEANLB'>, <class 'vectorbt.labels.generators.LEXLB'>, <class 'vectorbt.labels.generators.TRENDLB'>, <class 'vectorbt.labels.generators.BOLB'>, <function import_submodules at 0x000001BCD07AFB00>, <class 'numba.core.errors.NumbaExperimentalFeatureWarning'>]\n"
     ]
    }
   ],
   "source": [
    "import vectorbt as vbt\n",
    "\n",
    "# 获取所有类\n",
    "all_classes = [obj for obj in vbt.__dict__.values() if isinstance(obj, type)]\n",
    "\n",
    "# 获取所有函数\n",
    "all_functions = [obj for obj in vbt.__dict__.values() if callable(obj)]\n",
    "\n",
    "print(\"所有类：\", all_classes)\n",
    "print(\"所有函数：\", all_functions)\n"
   ]
  },
  {
   "cell_type": "code",
   "execution_count": null,
   "id": "d40f10c2",
   "metadata": {},
   "outputs": [],
   "source": []
  }
 ],
 "metadata": {
  "kernelspec": {
   "display_name": "Python 3 (ipykernel)",
   "language": "python",
   "name": "python3"
  },
  "language_info": {
   "codemirror_mode": {
    "name": "ipython",
    "version": 3
   },
   "file_extension": ".py",
   "mimetype": "text/x-python",
   "name": "python",
   "nbconvert_exporter": "python",
   "pygments_lexer": "ipython3",
   "version": "3.11.5"
  }
 },
 "nbformat": 4,
 "nbformat_minor": 5
}
