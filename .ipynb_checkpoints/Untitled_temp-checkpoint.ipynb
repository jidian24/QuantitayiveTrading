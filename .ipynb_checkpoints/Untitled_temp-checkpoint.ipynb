{
 "cells": [
  {
   "cell_type": "code",
   "execution_count": null,
   "id": "f1286b36-1fe7-43c5-8ed3-b715f39882d9",
   "metadata": {},
   "outputs": [],
   "source": [
    "import pdb\n",
    "from alpha_vantage.timeseries import TimeSeries\n",
    "ts1 = TimeSeries(key = \"0290b1fb-1eb0-4464-8b8f-03ead74f702a\")\n",
    "ts1.get_monthly(\"AAPL\")\n",
    "\n",
    "pdb.set_trace()"
   ]
  },
  {
   "cell_type": "code",
   "execution_count": null,
   "id": "8203f790-063e-4dd4-8266-54a7d00096de",
   "metadata": {},
   "outputs": [],
   "source": [
    "print('asd')\n"
   ]
  },
  {
   "cell_type": "code",
   "execution_count": null,
   "id": "c59d7c47-07c4-43e0-b85f-cfb83be45e5e",
   "metadata": {},
   "outputs": [],
   "source": [
    "# pandas-ta 的 ta.Strategy 的简单示例，该示例基于简单的移动平均线交叉策略\n",
    "import pandas as pd  \n",
    "import pandas_ta as ta  \n",
    "  \n",
    "# 假设你有一个包含 'Close' 列的 DataFrame 'df'  \n",
    "df = pd.read_csv('gate_ADA_USDT.csv')  # 例如，从 CSV 文件中读取数据  \n",
    "  \n",
    "# 为了示例，我们创建一个简单的 DataFrame  \n",
    "# dates = pd.date_range(start=\"2023-01-01\", periods=100)  \n",
    "# data = {'Close': (100 + (pd.Series(range(100)) + pd.Series(range(100)).cumsum() * 0.1)）.cumsum()}  \n",
    "# df = pd.DataFrame(data, index=dates)  \n",
    "# Calculate Returns and append to the df DataFrame\n",
    "df.ta.log_return(cumulative=True, append=True)\n",
    "df.ta.percent_return(cumulative=True, append=True)  \n",
    "# 添加简单移动平均线到 DataFrame  \n",
    "df['SMA_short'] = ta.sma(df['Close'], length=7)  \n",
    "df['SMA_long'] = ta.sma(df['Close'], length=21)  \n",
    "sma10 = ta.sma(df[\"Close\"], length=10)\n",
    "ema10_ohlc4 = ta.ema(ta.ohlc4(df[\"open\"], df[\"High\"], df[\"Low\"], df[\"Close\"]), length=10)\n",
    "ta.Strategy('all')  \n",
    "# 定义策略  \n",
    "strategy = {  \n",
    "    'SMA Crossover': {  \n",
    "        'longentry': df['SMA_short'] > df['SMA_long'],  \n",
    "        'longexit': df['SMA_short'] < df['SMA_long'],  \n",
    "        'shortentry': False,  # 在这个策略中我们不考虑空头  \n",
    "        'shortexit': False,  # 在这个策略中我们不考虑空头  \n",
    "    }  \n",
    "}  \n",
    "print(df.tail())\n",
    "# 应用策略并添加信号列到 DataFrame  \n",
    "df.ta.strategy(strategy)  \n",
    "#signals = ta.Strategy(df, strategy)  \n",
    "#print(signals)\n",
    "##df = pd.concat([df, signals], axis=1)  \n",
    "  \n",
    "# 查看结果  \n",
    "print(df.tail())"
   ]
  },
  {
   "cell_type": "code",
   "execution_count": null,
   "id": "57aa1bd8-c99a-4d6d-be29-e9a5b2f2135a",
   "metadata": {},
   "outputs": [],
   "source": [
    "import os\n",
    "import json\n",
    "import ccxt\n",
    "import pandas as pd\n",
    "import pdb\n",
    "\n",
    "# 循环获取指定交易所、指定参数的所有 USTD 交易对 k 线数据\n",
    "def ccxt_save_kline(exchange_name, transaction_type='spot', kline_period='1d'):\n",
    "    try:\n",
    "        # 设置交易所\n",
    "        exchange = getattr(ccxt, exchange_name)()\n",
    "        # 加载市场信息\n",
    "        markets = exchange.load_markets()\n",
    "        usdt_markets = [market for market in markets if market.endswith('/USDT')]   # 获取所有 USDT 交易对\n",
    "        # 循环获取所有符合要求的交易对\n",
    "        for symbol in usdt_markets:\n",
    "            if exchange.markets[symbol][transaction_type]:\n",
    "                klines = exchange.fetch_ohlcv(symbol, kline_period)\n",
    "                if klines:\n",
    "                    df_kl = pd.DataFrame(klines, columns=['datatime', 'open', 'high', 'low', 'close', 'volume'])\n",
    "                    df_kl['DataTime'] = pd.to_datetime(df_kl['datatime'], unit='ms')\n",
    "                    print('{}\\n{}\\n{}'.format(df_kl.shape, df_kl.head(1), df_kl.tail(1)))\n",
    "                    filename = f'{exchange_name}_{symbol}_{kline_period}.csv'\n",
    "                    df_kl.to_csv(os.path.join('..', 'data', filename), index=True)\n",
    "                    print(f'Saved {filename} successfully.')\n",
    "                    pdb.set_trace()\n",
    "    except Exception as e:\n",
    "        print(f\"发生错误：{e}\")\n",
    "\n",
    "ccxt_save_kline('gate', 'swap', '15m')"
   ]
  },
  {
   "cell_type": "code",
   "execution_count": 7,
   "id": "d196d727-90ef-42ce-b92b-0a841daad40f",
   "metadata": {
    "scrolled": true
   },
   "outputs": [
    {
     "name": "stdout",
     "output_type": "stream",
     "text": [
      "--Return--\n",
      "None\n",
      "> \u001b[1;32mc:\\users\\qiaolun.zhangjiangtech\\appdata\\local\\temp\\ipykernel_24900\\131684582.py\u001b[0m(10)\u001b[0;36m<module>\u001b[1;34m()\u001b[0m\n",
      "\n"
     ]
    },
    {
     "name": "stdin",
     "output_type": "stream",
     "text": [
      "ipdb>  df\n"
     ]
    },
    {
     "name": "stdout",
     "output_type": "stream",
     "text": [
      "       datetime    open    high     low   close    volume    SMA_50   SMA_200  \\\n",
      "0    2022-02-11  1.7695  2.0000  1.4890  1.5432    2396.0       NaN       NaN   \n",
      "1    2022-02-12  1.5432  1.6113  1.3513  1.4500    8754.0       NaN       NaN   \n",
      "2    2022-02-13  1.4750  1.6360  1.3675  1.4585    4960.0       NaN       NaN   \n",
      "3    2022-02-14  1.4310  1.5417  1.3300  1.4466     267.0       NaN       NaN   \n",
      "4    2022-02-15  1.5000  1.7496  1.4146  1.6057    5852.0       NaN       NaN   \n",
      "..          ...     ...     ...     ...     ...       ...       ...       ...   \n",
      "815  2024-05-06  0.1169  0.1213  0.1111  0.1122   53000.0  0.142276  0.103392   \n",
      "816  2024-05-07  0.1150  0.1316  0.1126  0.1186  113265.0  0.141130  0.103754   \n",
      "817  2024-05-08  0.1172  0.1172  0.1092  0.1100   35666.0  0.140008  0.104069   \n",
      "818  2024-05-09  0.1092  0.1123  0.1061  0.1111   19999.0  0.138550  0.104389   \n",
      "819  2024-05-10  0.1120  0.1120  0.1111  0.1111     387.0  0.137310  0.104701   \n",
      "\n",
      "        GC  \n",
      "0    False  \n",
      "1    False  \n",
      "2    False  \n",
      "3    False  \n",
      "4    False  \n",
      "..     ...  \n",
      "815   True  \n",
      "816   True  \n",
      "817   True  \n",
      "818   True  \n",
      "819   True  \n",
      "\n",
      "[820 rows x 9 columns]\n"
     ]
    },
    {
     "name": "stdin",
     "output_type": "stream",
     "text": [
      "ipdb>  df['GC'].tolist\n"
     ]
    },
    {
     "name": "stdout",
     "output_type": "stream",
     "text": [
      "<bound method IndexOpsMixin.tolist of 0      False\n",
      "1      False\n",
      "2      False\n",
      "3      False\n",
      "4      False\n",
      "       ...  \n",
      "815     True\n",
      "816     True\n",
      "817     True\n",
      "818     True\n",
      "819     True\n",
      "Name: GC, Length: 820, dtype: bool>\n"
     ]
    },
    {
     "name": "stdin",
     "output_type": "stream",
     "text": [
      "ipdb>  print( df['GC'].tolist)\n"
     ]
    },
    {
     "name": "stdout",
     "output_type": "stream",
     "text": [
      "<bound method IndexOpsMixin.tolist of 0      False\n",
      "1      False\n",
      "2      False\n",
      "3      False\n",
      "4      False\n",
      "       ...  \n",
      "815     True\n",
      "816     True\n",
      "817     True\n",
      "818     True\n",
      "819     True\n",
      "Name: GC, Length: 820, dtype: bool>\n"
     ]
    },
    {
     "name": "stdin",
     "output_type": "stream",
     "text": [
      "ipdb>  golden = df.ta.tsignals(df.GC, asbool=True, append=True)\n",
      "ipdb>  golden\n"
     ]
    },
    {
     "name": "stdout",
     "output_type": "stream",
     "text": [
      "     TS_Trends  TS_Trades  TS_Entries  TS_Exits\n",
      "0        False          0       False     False\n",
      "1        False          0       False     False\n",
      "2        False          0       False     False\n",
      "3        False          0       False     False\n",
      "4        False          0       False     False\n",
      "..         ...        ...         ...       ...\n",
      "815       True          0       False     False\n",
      "816       True          0       False     False\n",
      "817       True          0       False     False\n",
      "818       True          0       False     False\n",
      "819       True          0       False     False\n",
      "\n",
      "[820 rows x 4 columns]\n"
     ]
    },
    {
     "name": "stdin",
     "output_type": "stream",
     "text": [
      "ipdb>  df\n"
     ]
    },
    {
     "name": "stdout",
     "output_type": "stream",
     "text": [
      "       datetime    open    high     low   close    volume    SMA_50   SMA_200  \\\n",
      "0    2022-02-11  1.7695  2.0000  1.4890  1.5432    2396.0       NaN       NaN   \n",
      "1    2022-02-12  1.5432  1.6113  1.3513  1.4500    8754.0       NaN       NaN   \n",
      "2    2022-02-13  1.4750  1.6360  1.3675  1.4585    4960.0       NaN       NaN   \n",
      "3    2022-02-14  1.4310  1.5417  1.3300  1.4466     267.0       NaN       NaN   \n",
      "4    2022-02-15  1.5000  1.7496  1.4146  1.6057    5852.0       NaN       NaN   \n",
      "..          ...     ...     ...     ...     ...       ...       ...       ...   \n",
      "815  2024-05-06  0.1169  0.1213  0.1111  0.1122   53000.0  0.142276  0.103392   \n",
      "816  2024-05-07  0.1150  0.1316  0.1126  0.1186  113265.0  0.141130  0.103754   \n",
      "817  2024-05-08  0.1172  0.1172  0.1092  0.1100   35666.0  0.140008  0.104069   \n",
      "818  2024-05-09  0.1092  0.1123  0.1061  0.1111   19999.0  0.138550  0.104389   \n",
      "819  2024-05-10  0.1120  0.1120  0.1111  0.1111     387.0  0.137310  0.104701   \n",
      "\n",
      "        GC  TS_Trends  TS_Trades  TS_Entries  TS_Exits  \n",
      "0    False      False          0       False     False  \n",
      "1    False      False          0       False     False  \n",
      "2    False      False          0       False     False  \n",
      "3    False      False          0       False     False  \n",
      "4    False      False          0       False     False  \n",
      "..     ...        ...        ...         ...       ...  \n",
      "815   True       True          0       False     False  \n",
      "816   True       True          0       False     False  \n",
      "817   True       True          0       False     False  \n",
      "818   True       True          0       False     False  \n",
      "819   True       True          0       False     False  \n",
      "\n",
      "[820 rows x 13 columns]\n"
     ]
    },
    {
     "name": "stdin",
     "output_type": "stream",
     "text": [
      "ipdb>  pf = vbt.Portfolio.from_signals(df.close, entries=golden.TS_Entries, exits=golden.TS_Exits, freq=\"D\", init_cash=100_000, fees=0.0025, slippage=0.0025)\n",
      "ipdb>  print(pf.stats())\n"
     ]
    },
    {
     "name": "stdout",
     "output_type": "stream",
     "text": [
      "Start                                         0\n",
      "End                                         819\n",
      "Period                        820 days 00:00:00\n",
      "Start Value                            100000.0\n",
      "End Value                         198112.143733\n",
      "Total Return [%]                      98.112144\n",
      "Benchmark Return [%]                 -92.800674\n",
      "Max Gross Exposure [%]                    100.0\n",
      "Total Fees Paid                      249.376559\n",
      "Max Drawdown [%]                      50.607091\n",
      "Max Drawdown Duration          48 days 00:00:00\n",
      "Total Trades                                  1\n",
      "Total Closed Trades                           0\n",
      "Total Open Trades                             1\n",
      "Open Trade PnL                     98112.143733\n",
      "Win Rate [%]                                NaN\n",
      "Best Trade [%]                              NaN\n",
      "Worst Trade [%]                             NaN\n",
      "Avg Winning Trade [%]                       NaN\n",
      "Avg Losing Trade [%]                        NaN\n",
      "Avg Winning Trade Duration                  NaT\n",
      "Avg Losing Trade Duration                   NaT\n",
      "Profit Factor                               NaN\n",
      "Expectancy                                  NaN\n",
      "Sharpe Ratio                           0.789162\n",
      "Calmar Ratio                           0.702854\n",
      "Omega Ratio                            1.286064\n",
      "Sortino Ratio                           1.43866\n",
      "dtype: object\n"
     ]
    },
    {
     "name": "stdin",
     "output_type": "stream",
     "text": [
      "ipdb>  print(pf.returns_stats())\n"
     ]
    },
    {
     "name": "stdout",
     "output_type": "stream",
     "text": [
      "Start                                        0\n",
      "End                                        819\n",
      "Period                       820 days 00:00:00\n",
      "Total Return [%]                     98.112144\n",
      "Benchmark Return [%]                -92.800674\n",
      "Annualized Return [%]                35.569392\n",
      "Annualized Volatility [%]             60.61372\n",
      "Max Drawdown [%]                     50.607091\n",
      "Max Drawdown Duration         48 days 00:00:00\n",
      "Sharpe Ratio                          0.789162\n",
      "Calmar Ratio                          0.702854\n",
      "Omega Ratio                           1.286064\n",
      "Sortino Ratio                          1.43866\n",
      "Skew                                  3.067634\n",
      "Kurtosis                             29.531955\n",
      "Tail Ratio                            0.981016\n",
      "Common Sense Ratio                    1.329957\n",
      "Value at Risk                        -0.042976\n",
      "Alpha                                 0.803555\n",
      "Beta                                  0.249875\n",
      "dtype: object\n"
     ]
    },
    {
     "name": "stdin",
     "output_type": "stream",
     "text": [
      "ipdb>  df\n"
     ]
    },
    {
     "name": "stdout",
     "output_type": "stream",
     "text": [
      "       datetime    open    high     low   close    volume    SMA_50   SMA_200  \\\n",
      "0    2022-02-11  1.7695  2.0000  1.4890  1.5432    2396.0       NaN       NaN   \n",
      "1    2022-02-12  1.5432  1.6113  1.3513  1.4500    8754.0       NaN       NaN   \n",
      "2    2022-02-13  1.4750  1.6360  1.3675  1.4585    4960.0       NaN       NaN   \n",
      "3    2022-02-14  1.4310  1.5417  1.3300  1.4466     267.0       NaN       NaN   \n",
      "4    2022-02-15  1.5000  1.7496  1.4146  1.6057    5852.0       NaN       NaN   \n",
      "..          ...     ...     ...     ...     ...       ...       ...       ...   \n",
      "815  2024-05-06  0.1169  0.1213  0.1111  0.1122   53000.0  0.142276  0.103392   \n",
      "816  2024-05-07  0.1150  0.1316  0.1126  0.1186  113265.0  0.141130  0.103754   \n",
      "817  2024-05-08  0.1172  0.1172  0.1092  0.1100   35666.0  0.140008  0.104069   \n",
      "818  2024-05-09  0.1092  0.1123  0.1061  0.1111   19999.0  0.138550  0.104389   \n",
      "819  2024-05-10  0.1120  0.1120  0.1111  0.1111     387.0  0.137310  0.104701   \n",
      "\n",
      "        GC  TS_Trends  TS_Trades  TS_Entries  TS_Exits  \n",
      "0    False      False          0       False     False  \n",
      "1    False      False          0       False     False  \n",
      "2    False      False          0       False     False  \n",
      "3    False      False          0       False     False  \n",
      "4    False      False          0       False     False  \n",
      "..     ...        ...        ...         ...       ...  \n",
      "815   True       True          0       False     False  \n",
      "816   True       True          0       False     False  \n",
      "817   True       True          0       False     False  \n",
      "818   True       True          0       False     False  \n",
      "819   True       True          0       False     False  \n",
      "\n",
      "[820 rows x 13 columns]\n"
     ]
    },
    {
     "name": "stdin",
     "output_type": "stream",
     "text": [
      "ipdb>  df.to_csv(os.path.join('..', 'data', 'Return.csv'), index=False)\n"
     ]
    },
    {
     "name": "stdout",
     "output_type": "stream",
     "text": [
      "*** NameError: name 'os' is not defined. Did you forget to import 'os'\n"
     ]
    },
    {
     "name": "stdin",
     "output_type": "stream",
     "text": [
      "ipdb>  import os\n",
      "ipdb>  df.to_csv(os.path.join('..', 'data', 'Return.csv'), index=False)\n",
      "ipdb>  q\n"
     ]
    }
   ],
   "source": [
    "import os\n",
    "import pdb\t\n",
    "import pandas as pd\n",
    "import pandas_ta as ta\n",
    "import vectorbt as vbt\n",
    "# vectorbt回测示例\n",
    "df = pd.read_csv('..//data//Gate.io_ACA_swap_1d.csv')  # 表格列名：datetime,open,hight,low,volume\n",
    "\n",
    "# Create the \"Golden Cross\" \t创建“黄金交叉”。\n",
    "df[\"GC\"] = df.ta.sma(7, append=True) > df.ta.sma(26, append=True)\n",
    "pdb.set_trace()\n",
    "# Create boolean Signals(TS_Entries, TS_Exits) for vectorbt\t为vectorbt创建布尔信号(TS_Entries, TS_Exits)\n",
    "golden = df.ta.tsignals(df.GC, asbool=True, append=True)\n",
    "\n",
    "# Sanity Check (Ensure data exists)\t\t合理性检查（确保数据存在）\n",
    "print(df)\n",
    "\n",
    "# Create the Signals Portfolio\t创建信号组合\n",
    "pf = vbt.Portfolio.from_signals(df.close, entries=golden.TS_Entries, exits=golden.TS_Exits, freq=\"D\", init_cash=100_000, fees=0.0025, slippage=0.0025)\t#freq=频率\n",
    "\n",
    "# Print Portfolio Stats and Return Stats\t打印投资组合统计数据和回报统计数据\n",
    "print(pf.stats())\n",
    "print(pf.returns_stats())\n",
    "df.to_csv(os.path.join('..', 'data', 'Return.csv'), index=False)"
   ]
  },
  {
   "cell_type": "code",
   "execution_count": 5,
   "id": "da924551-b259-4e19-9956-57c48854b273",
   "metadata": {},
   "outputs": [
    {
     "name": "stdout",
     "output_type": "stream",
     "text": [
      "Error: One or more series are None, skipping cross indicator calculation.\n"
     ]
    },
    {
     "ename": "KeyError",
     "evalue": "'sma_7_cross_sma_26'",
     "output_type": "error",
     "traceback": [
      "\u001b[1;31m---------------------------------------------------------------------------\u001b[0m",
      "\u001b[1;31mKeyError\u001b[0m                                  Traceback (most recent call last)",
      "File \u001b[1;32mD:\\Programs\\Python\\Python312\\Lib\\site-packages\\pandas\\core\\indexes\\base.py:3805\u001b[0m, in \u001b[0;36mIndex.get_loc\u001b[1;34m(self, key)\u001b[0m\n\u001b[0;32m   3804\u001b[0m \u001b[38;5;28;01mtry\u001b[39;00m:\n\u001b[1;32m-> 3805\u001b[0m     \u001b[38;5;28;01mreturn\u001b[39;00m \u001b[38;5;28;43mself\u001b[39;49m\u001b[38;5;241;43m.\u001b[39;49m\u001b[43m_engine\u001b[49m\u001b[38;5;241;43m.\u001b[39;49m\u001b[43mget_loc\u001b[49m\u001b[43m(\u001b[49m\u001b[43mcasted_key\u001b[49m\u001b[43m)\u001b[49m\n\u001b[0;32m   3806\u001b[0m \u001b[38;5;28;01mexcept\u001b[39;00m \u001b[38;5;167;01mKeyError\u001b[39;00m \u001b[38;5;28;01mas\u001b[39;00m err:\n",
      "File \u001b[1;32mindex.pyx:167\u001b[0m, in \u001b[0;36mpandas._libs.index.IndexEngine.get_loc\u001b[1;34m()\u001b[0m\n",
      "File \u001b[1;32mindex.pyx:196\u001b[0m, in \u001b[0;36mpandas._libs.index.IndexEngine.get_loc\u001b[1;34m()\u001b[0m\n",
      "File \u001b[1;32mpandas\\\\_libs\\\\hashtable_class_helper.pxi:7081\u001b[0m, in \u001b[0;36mpandas._libs.hashtable.PyObjectHashTable.get_item\u001b[1;34m()\u001b[0m\n",
      "File \u001b[1;32mpandas\\\\_libs\\\\hashtable_class_helper.pxi:7089\u001b[0m, in \u001b[0;36mpandas._libs.hashtable.PyObjectHashTable.get_item\u001b[1;34m()\u001b[0m\n",
      "\u001b[1;31mKeyError\u001b[0m: 'sma_7_cross_sma_26'",
      "\nThe above exception was the direct cause of the following exception:\n",
      "\u001b[1;31mKeyError\u001b[0m                                  Traceback (most recent call last)",
      "Cell \u001b[1;32mIn[5], line 30\u001b[0m\n\u001b[0;32m     27\u001b[0m         \u001b[38;5;28;01mraise\u001b[39;00m e\n\u001b[0;32m     29\u001b[0m \u001b[38;5;66;03m# 打印信号列\u001b[39;00m\n\u001b[1;32m---> 30\u001b[0m \u001b[38;5;28mprint\u001b[39m(\u001b[43mdf\u001b[49m\u001b[43m[\u001b[49m\u001b[38;5;124;43m'\u001b[39;49m\u001b[38;5;124;43msma_\u001b[39;49m\u001b[38;5;124;43m'\u001b[39;49m\u001b[43m \u001b[49m\u001b[38;5;241;43m+\u001b[39;49m\u001b[43m \u001b[49m\u001b[38;5;28;43mstr\u001b[39;49m\u001b[43m(\u001b[49m\u001b[43msma_short\u001b[49m\u001b[43m)\u001b[49m\u001b[43m \u001b[49m\u001b[38;5;241;43m+\u001b[39;49m\u001b[43m \u001b[49m\u001b[38;5;124;43m'\u001b[39;49m\u001b[38;5;124;43m_cross_sma_\u001b[39;49m\u001b[38;5;124;43m'\u001b[39;49m\u001b[43m \u001b[49m\u001b[38;5;241;43m+\u001b[39;49m\u001b[43m \u001b[49m\u001b[38;5;28;43mstr\u001b[39;49m\u001b[43m(\u001b[49m\u001b[43msma_long\u001b[49m\u001b[43m)\u001b[49m\u001b[43m]\u001b[49m)\n",
      "File \u001b[1;32mD:\\Programs\\Python\\Python312\\Lib\\site-packages\\pandas\\core\\frame.py:4102\u001b[0m, in \u001b[0;36mDataFrame.__getitem__\u001b[1;34m(self, key)\u001b[0m\n\u001b[0;32m   4100\u001b[0m \u001b[38;5;28;01mif\u001b[39;00m \u001b[38;5;28mself\u001b[39m\u001b[38;5;241m.\u001b[39mcolumns\u001b[38;5;241m.\u001b[39mnlevels \u001b[38;5;241m>\u001b[39m \u001b[38;5;241m1\u001b[39m:\n\u001b[0;32m   4101\u001b[0m     \u001b[38;5;28;01mreturn\u001b[39;00m \u001b[38;5;28mself\u001b[39m\u001b[38;5;241m.\u001b[39m_getitem_multilevel(key)\n\u001b[1;32m-> 4102\u001b[0m indexer \u001b[38;5;241m=\u001b[39m \u001b[38;5;28;43mself\u001b[39;49m\u001b[38;5;241;43m.\u001b[39;49m\u001b[43mcolumns\u001b[49m\u001b[38;5;241;43m.\u001b[39;49m\u001b[43mget_loc\u001b[49m\u001b[43m(\u001b[49m\u001b[43mkey\u001b[49m\u001b[43m)\u001b[49m\n\u001b[0;32m   4103\u001b[0m \u001b[38;5;28;01mif\u001b[39;00m is_integer(indexer):\n\u001b[0;32m   4104\u001b[0m     indexer \u001b[38;5;241m=\u001b[39m [indexer]\n",
      "File \u001b[1;32mD:\\Programs\\Python\\Python312\\Lib\\site-packages\\pandas\\core\\indexes\\base.py:3812\u001b[0m, in \u001b[0;36mIndex.get_loc\u001b[1;34m(self, key)\u001b[0m\n\u001b[0;32m   3807\u001b[0m     \u001b[38;5;28;01mif\u001b[39;00m \u001b[38;5;28misinstance\u001b[39m(casted_key, \u001b[38;5;28mslice\u001b[39m) \u001b[38;5;129;01mor\u001b[39;00m (\n\u001b[0;32m   3808\u001b[0m         \u001b[38;5;28misinstance\u001b[39m(casted_key, abc\u001b[38;5;241m.\u001b[39mIterable)\n\u001b[0;32m   3809\u001b[0m         \u001b[38;5;129;01mand\u001b[39;00m \u001b[38;5;28many\u001b[39m(\u001b[38;5;28misinstance\u001b[39m(x, \u001b[38;5;28mslice\u001b[39m) \u001b[38;5;28;01mfor\u001b[39;00m x \u001b[38;5;129;01min\u001b[39;00m casted_key)\n\u001b[0;32m   3810\u001b[0m     ):\n\u001b[0;32m   3811\u001b[0m         \u001b[38;5;28;01mraise\u001b[39;00m InvalidIndexError(key)\n\u001b[1;32m-> 3812\u001b[0m     \u001b[38;5;28;01mraise\u001b[39;00m \u001b[38;5;167;01mKeyError\u001b[39;00m(key) \u001b[38;5;28;01mfrom\u001b[39;00m \u001b[38;5;21;01merr\u001b[39;00m\n\u001b[0;32m   3813\u001b[0m \u001b[38;5;28;01mexcept\u001b[39;00m \u001b[38;5;167;01mTypeError\u001b[39;00m:\n\u001b[0;32m   3814\u001b[0m     \u001b[38;5;66;03m# If we have a listlike key, _check_indexing_error will raise\u001b[39;00m\n\u001b[0;32m   3815\u001b[0m     \u001b[38;5;66;03m#  InvalidIndexError. Otherwise we fall through and re-raise\u001b[39;00m\n\u001b[0;32m   3816\u001b[0m     \u001b[38;5;66;03m#  the TypeError.\u001b[39;00m\n\u001b[0;32m   3817\u001b[0m     \u001b[38;5;28mself\u001b[39m\u001b[38;5;241m.\u001b[39m_check_indexing_error(key)\n",
      "\u001b[1;31mKeyError\u001b[0m: 'sma_7_cross_sma_26'"
     ]
    }
   ],
   "source": [
    "import pandas as pd\n",
    "import pandas_ta as ta\n",
    "\n",
    "\n",
    "\n",
    "if __name__ == '__main__':\n",
    "    df = pd.read_csv('..//data//Gate.io_ACA_swap_1d.csv')  # 表格列名：datetime,open,hight,low,volume\n",
    "    sma_short = 7\n",
    "    sma_long = 26\n",
    "\n",
    "    # 定义 SMA 金叉和死叉信号策略\n",
    "    signalStrategy = ta.Strategy(\n",
    "        name=\"SignalStrategy\",\n",
    "        description=\"SMA Golden Cross and Death Cross Signals\",\n",
    "        ta=[\n",
    "            {\"kind\": \"cross\", \"close\": \"sma_\" + str(sma_short), \"signal\": \"sma_\" + str(sma_long)},\n",
    "        ]\n",
    "    )\n",
    "\n",
    "    # 应用信号策略\n",
    "    try:\n",
    "        df.ta.strategy(signalStrategy)\n",
    "    except AttributeError as e:\n",
    "        if \"NoneType\" in str(e):\n",
    "            print(\"Error: One or more series are None, skipping cross indicator calculation.\")\n",
    "        else:\n",
    "            raise e\n",
    "\n",
    "    # 打印信号列\n",
    "    print(df['sma_' + str(sma_short) + '_cross_sma_' + str(sma_long)])"
   ]
  },
  {
   "cell_type": "code",
   "execution_count": 2,
   "id": "95e89715-8321-4cbb-a131-daa1eb0ffe94",
   "metadata": {},
   "outputs": [
    {
     "name": "stdout",
     "output_type": "stream",
     "text": [
      "> \u001b[1;32mc:\\users\\qiaolun.zhangjiangtech\\appdata\\local\\temp\\ipykernel_24900\\3836570670.py\u001b[0m(61)\u001b[0;36m<module>\u001b[1;34m()\u001b[0m\n",
      "\n"
     ]
    },
    {
     "name": "stdin",
     "output_type": "stream",
     "text": [
      "ipdb>  df.columns\n"
     ]
    },
    {
     "name": "stdout",
     "output_type": "stream",
     "text": [
      "Index(['datetime', 'open', 'high', 'low', 'close', 'volume'], dtype='object')\n"
     ]
    },
    {
     "name": "stdin",
     "output_type": "stream",
     "text": [
      "ipdb>  df.ta.strategy(momentumStrategy)\n",
      "ipdb>  df.columns\n"
     ]
    },
    {
     "name": "stdout",
     "output_type": "stream",
     "text": [
      "Index(['datetime', 'open', 'high', 'low', 'close', 'volume', 'vol_ROC_10',\n",
      "       'OBV', 'RSI_14', 'K_9_3', 'D_9_3', 'J_9_3', 'SMA_7', 'SMA_26',\n",
      "       'BBL_5_2.0', 'BBM_5_2.0', 'BBU_5_2.0', 'BBB_5_2.0', 'BBP_5_2.0',\n",
      "       'MACD_12_26_9', 'MACDh_12_26_9', 'MACDs_12_26_9'],\n",
      "      dtype='object')\n"
     ]
    },
    {
     "name": "stdin",
     "output_type": "stream",
     "text": [
      "ipdb>  signalStrategy = ta.Strategy(         name=\"signalStrategy\",         description=\"signals\",         ta=[            {\"kind\": \"cross\", \"close\": \"sma_7\", \"signal\": \"sma_26\"}          ]     )\n",
      "ipdb>  df.ta.strategy(signalStrategy)\n",
      "ipdb>  df.columns\n"
     ]
    },
    {
     "name": "stdout",
     "output_type": "stream",
     "text": [
      "Index(['datetime', 'open', 'high', 'low', 'close', 'volume', 'vol_ROC_10',\n",
      "       'OBV', 'RSI_14', 'K_9_3', 'D_9_3', 'J_9_3', 'SMA_7', 'SMA_26',\n",
      "       'BBL_5_2.0', 'BBM_5_2.0', 'BBU_5_2.0', 'BBB_5_2.0', 'BBP_5_2.0',\n",
      "       'MACD_12_26_9', 'MACDh_12_26_9', 'MACDs_12_26_9', 'SMA_7_XA_BBL_5_2.0'],\n",
      "      dtype='object')\n"
     ]
    },
    {
     "name": "stdin",
     "output_type": "stream",
     "text": [
      "ipdb>  help(pandas_ta.cross)\n"
     ]
    },
    {
     "name": "stdout",
     "output_type": "stream",
     "text": [
      "*** No help for '(pandas_ta.cross)'\n"
     ]
    },
    {
     "name": "stdin",
     "output_type": "stream",
     "text": [
      "ipdb>  help(ta.cross)\n"
     ]
    },
    {
     "name": "stdout",
     "output_type": "stream",
     "text": [
      "*** No help for '(ta.cross)'\n"
     ]
    },
    {
     "name": "stdin",
     "output_type": "stream",
     "text": [
      "ipdb>  q \n"
     ]
    }
   ],
   "source": [
    "import pdb\t\n",
    "import pandas as pd  \n",
    "import pandas_ta as ta  \n",
    "#import wind_library\n",
    "import vectorbt as vbt\n",
    "\n",
    "import matplotlib.pyplot as plt\n",
    "\n",
    "def finance_plot(df, list_Ignored_columns):\n",
    "    # 创建一个字典来存储每个指标对应的子图和曲线颜色\n",
    "    subplots = {}\n",
    "    colors = ['blue', 'orange', 'purple', 'green', 'red']\n",
    "    \n",
    "    # 计算需要绘制的子图数量\n",
    "    num_cols = len([col for col in df.columns if col not in list_Ignored_columns])\n",
    "    fig, axs = plt.subplots(num_cols, 1, figsize=(10, 8*num_cols))\n",
    "    \n",
    "    # 遍历每一列数据\n",
    "    for i, col in enumerate(df.columns):\n",
    "        if col not in list_Ignored_columns:\n",
    "            # 获取指标名称\n",
    "            indicator = col.split(\"_\")[0]\n",
    "            \n",
    "            # 如果该指标还没有对应的子图, 则创建一个新的子图\n",
    "            if indicator not in subplots:\n",
    "                subplots[indicator] = [axs[len(subplots)], 0]\n",
    "            \n",
    "            # 获取对应的子图和曲线颜色索引\n",
    "            ax, color_idx = subplots[indicator]\n",
    "            \n",
    "            # 在子图上绘制数据, 并更新曲线颜色索引\n",
    "            ax.plot(df[col], color=colors[color_idx], linewidth=1)\n",
    "            subplots[indicator][1] = (color_idx + 1) % len(colors)\n",
    "            ax.set_title(col)\n",
    "            ax.grid(True)\n",
    "    \n",
    "    plt.tight_layout()\n",
    "    plt.show()\n",
    "\n",
    "# 示例调用动态绘图函数\n",
    "# finance_plot(df, ['datetime', 'open', 'high', 'low'])\n",
    "\n",
    "if __name__ == '__main__':\n",
    "    df = pd.read_csv('..//data//Gate.io_ACA_swap_1d.csv')  # 表格列名：datetime,open,hight,low,volume\n",
    "    sma_short= 7; sma_long= 26\n",
    "    momentumStrategy = ta.Strategy(\n",
    "        name=\"Custommomentum\",\n",
    "        description=\"roc,obv,\",\n",
    "        ta=[\n",
    "            {\"kind\": \"roc\", \"close\": \"volume\", \"prefix\": \"vol\"}, #\"length\": 10 ,\n",
    "            {\"kind\": \"obv\"},\n",
    "            {\"kind\": \"rsi\"} ,\n",
    "            {\"kind\": \"kdj\"} ,\n",
    "            {\"kind\": \"sma\", \"length\": sma_short},\n",
    "            {\"kind\": \"sma\", \"length\": sma_long},\n",
    "            {\"kind\": \"bbands\"} ,\n",
    "            {\"kind\": \"macd\", } \n",
    "        ]\n",
    "    )\n",
    "    pdb.set_trace()\n",
    "    signalStrategy = ta.Strategy(\n",
    "        name=\"signalStrategy\",\n",
    "        description=\"signals\",\n",
    "        ta=[\n",
    "            #{\"kind\": \"roc\", \"close\": \"volume\", \"prefix\": \"vol\"}, #\"length\": 10 ,\n",
    "            #{\"kind\": \"obv\"},\n",
    "            #{\"kind\": \"rsi\"} ,\n",
    "            #{\"kind\": \"sma\", \"length\": 7},\n",
    "           {\"kind\": \"cross\", \"close\": \"sma_\" + str(sma_short), \"signal\": \"sma_\" + str(sma_long)} #,\n",
    "           # {\"kind\": \"above\", \"close\": \"close\", \"signal\": \"sma_\" + str(sma_short)}\n",
    "        ]\n",
    "    )\n",
    "    pdb.set_trace()\n",
    "    df.ta.strategy(momentumStrategy)\n",
    "    df.ta.strategy(signalStrategy)\n",
    "    print(df.columns)\n",
    "    finance_plot(df, ['datetime', 'open', 'high', 'low'])\n",
    "    # 调用动态绘图函数\n",
    "    # wind_library.finance_plot(df, ['datetime', 'open', 'high', 'low'])"
   ]
  },
  {
   "cell_type": "code",
   "execution_count": null,
   "id": "3cf6656f",
   "metadata": {},
   "outputs": [],
   "source": [
    "max_multiple"
   ]
  }
 ],
 "metadata": {
  "kernelspec": {
   "display_name": "Python 3 (ipykernel)",
   "language": "python",
   "name": "python3"
  },
  "language_info": {
   "codemirror_mode": {
    "name": "ipython",
    "version": 3
   },
   "file_extension": ".py",
   "mimetype": "text/x-python",
   "name": "python",
   "nbconvert_exporter": "python",
   "pygments_lexer": "ipython3",
   "version": "3.11.5"
  }
 },
 "nbformat": 4,
 "nbformat_minor": 5
}
